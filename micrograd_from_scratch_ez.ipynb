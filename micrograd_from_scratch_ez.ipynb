{
  "nbformat": 4,
  "nbformat_minor": 0,
  "metadata": {
    "colab": {
      "provenance": [],
      "authorship_tag": "ABX9TyP4QINxVQe17KOnnakHFiHG",
      "include_colab_link": true
    },
    "kernelspec": {
      "name": "python3",
      "display_name": "Python 3"
    },
    "language_info": {
      "name": "python"
    }
  },
  "cells": [
    {
      "cell_type": "markdown",
      "metadata": {
        "id": "view-in-github",
        "colab_type": "text"
      },
      "source": [
        "<a href=\"https://colab.research.google.com/github/sushi057/HOML3/blob/main/micrograd_from_scratch_ez.ipynb\" target=\"_parent\"><img src=\"https://colab.research.google.com/assets/colab-badge.svg\" alt=\"Open In Colab\"/></a>"
      ]
    },
    {
      "cell_type": "code",
      "execution_count": 254,
      "metadata": {
        "id": "E1k3JG4gXyob"
      },
      "outputs": [],
      "source": [
        "import numpy as np\n",
        "import pandas as pd\n",
        "import matplotlib.pyplot as plt\n",
        "%matplotlib inline\n",
        "import math"
      ]
    },
    {
      "cell_type": "code",
      "source": [
        "def f(x):\n",
        "  return 3*x**2 - 4*x + 5"
      ],
      "metadata": {
        "id": "2EkJo7-jcGI8"
      },
      "execution_count": 255,
      "outputs": []
    },
    {
      "cell_type": "code",
      "source": [
        "f(3.0)"
      ],
      "metadata": {
        "id": "m80lG6P-caRw",
        "colab": {
          "base_uri": "https://localhost:8080/"
        },
        "outputId": "ebca9605-6b2c-4019-b313-5a7da4f30d80"
      },
      "execution_count": 256,
      "outputs": [
        {
          "output_type": "execute_result",
          "data": {
            "text/plain": [
              "20.0"
            ]
          },
          "metadata": {},
          "execution_count": 256
        }
      ]
    },
    {
      "cell_type": "code",
      "source": [
        "xs = np.arange(-5, 5, 0.25)\n",
        "ys = f(xs)\n",
        "plt.plot(xs, ys)"
      ],
      "metadata": {
        "id": "q0k2pAg-ccVI",
        "colab": {
          "base_uri": "https://localhost:8080/",
          "height": 447
        },
        "outputId": "a5e7e440-a65f-4b17-e60d-3777abff1041"
      },
      "execution_count": 257,
      "outputs": [
        {
          "output_type": "execute_result",
          "data": {
            "text/plain": [
              "[<matplotlib.lines.Line2D at 0x7adfca0f5d80>]"
            ]
          },
          "metadata": {},
          "execution_count": 257
        },
        {
          "output_type": "display_data",
          "data": {
            "text/plain": [
              "<Figure size 640x480 with 1 Axes>"
            ],
            "image/png": "[encoded data removed]"
          },
          "metadata": {}
        }
      ]
    },
    {
      "cell_type": "code",
      "source": [
        "h = 0.000001\n",
        "x = -3.0\n",
        "\n",
        "(f(x+h) - f(x))/h"
      ],
      "metadata": {
        "id": "NZNHQ44Ecge3",
        "colab": {
          "base_uri": "https://localhost:8080/"
        },
        "outputId": "c10c6782-82ef-4e76-fd17-09cb2fae8732"
      },
      "execution_count": 258,
      "outputs": [
        {
          "output_type": "execute_result",
          "data": {
            "text/plain": [
              "-21.999997002808414"
            ]
          },
          "metadata": {},
          "execution_count": 258
        }
      ]
    },
    {
      "cell_type": "code",
      "source": [
        "class Value:\n",
        "  def __init__(self, data, _children=(), _op=\"\", label=\"\", grad=0.0):\n",
        "    self.data = data\n",
        "    self._prev = _children\n",
        "    self._backward = lambda:None\n",
        "    self._op = _op\n",
        "    self.label = label\n",
        "    self.grad = grad\n",
        "\n",
        "  def __repr__(self):\n",
        "    return f\"Value(data={self.data})\"\n",
        "\n",
        "  def __add__(self, other):\n",
        "    other = other if isinstance(other, Value) else Value(other)\n",
        "    out = Value(self.data + other.data, (self, other), \"+\")\n",
        "\n",
        "    def _backward():\n",
        "      self.grad += 1.0 * out.grad\n",
        "      other.grad += 1.0 * out.grad\n",
        "    out._backward = _backward\n",
        "    return out\n",
        "\n",
        "  def __neg__(self):\n",
        "    return self * -1\n",
        "\n",
        "\n",
        "  def __sub__(self, other):\n",
        "    return self + (-other)\n",
        "\n",
        "  def __radd__(self, other):\n",
        "    return self + other\n",
        "\n",
        "  def __mul__(self, other):\n",
        "    other = other if isinstance(other, Value) else Value(other)\n",
        "    out = Value(self.data * other.data, (self, other), \"*\")\n",
        "\n",
        "    def _backward():\n",
        "      self.grad += other.data * out.grad\n",
        "      other.grad += self.data * out.grad\n",
        "    out._backward = _backward\n",
        "    return out\n",
        "\n",
        "  def __rmul__(self, other):\n",
        "    return self * other\n",
        "\n",
        "  def __truediv__(self, other):\n",
        "    return self * other ** -1\n",
        "\n",
        "  def __pow__(self, other):\n",
        "    assert isinstance(other, (int, float)), \"only using int/float\"\n",
        "    out = Value(self.data ** other, (self, ), f'**{other}')\n",
        "\n",
        "    def _backward():\n",
        "      self.grad = other * (self.data ** (other - 1)) * out.grad\n",
        "    out._backward = _backward\n",
        "    return out\n",
        "\n",
        "  def exp(self):\n",
        "    x = self.data\n",
        "    out = Value(math.exp(x), (self, ), \"exp\")\n",
        "\n",
        "    def _backward():\n",
        "      self.grad = (out.data) * out.grad\n",
        "    out._backward = _backward\n",
        "    return out\n",
        "\n",
        "  def tanh(self):\n",
        "    x = self.data\n",
        "    t = (math.exp(2*x) - 1) / (math.exp(2*x) + 1)\n",
        "    out = Value(t, (self, ), \"tanh\")\n",
        "\n",
        "    def _backward():\n",
        "      self.grad += (1 - t ** 2) * out.grad\n",
        "    out._backward = _backward\n",
        "\n",
        "    return out\n",
        "\n",
        "  def backward(self):\n",
        "    topo = []\n",
        "    visited = set()\n",
        "    def build_topo(v):\n",
        "      if v not in visited:\n",
        "        visited.add(v)\n",
        "        for child in v._prev:\n",
        "          build_topo(child)\n",
        "        topo.append(v)\n",
        "    build_topo(self)\n",
        "\n",
        "    self.grad = 1.0\n",
        "    for node in reversed(topo):\n",
        "      node._backward()\n",
        "\n"
      ],
      "metadata": {
        "id": "lSiCax4OdXJo"
      },
      "execution_count": 259,
      "outputs": []
    },
    {
      "cell_type": "code",
      "source": [
        "a = Value(4.0)\n",
        "b = Value(2.0)\n",
        "a-b"
      ],
      "metadata": {
        "colab": {
          "base_uri": "https://localhost:8080/"
        },
        "id": "eN22SNo9Do4I",
        "outputId": "97466e60-6424-4ac5-f3c5-02029fc97cb9"
      },
      "execution_count": 260,
      "outputs": [
        {
          "output_type": "execute_result",
          "data": {
            "text/plain": [
              "Value(data=2.0)"
            ]
          },
          "metadata": {},
          "execution_count": 260
        }
      ]
    },
    {
      "cell_type": "markdown",
      "source": [
        "Gradients are initalized at 0.0 and they accumulate when backward propagation is done."
      ],
      "metadata": {
        "id": "339Z5dDwA6J4"
      }
    },
    {
      "cell_type": "code",
      "source": [
        "from graphviz import Digraph\n",
        "\n",
        "def trace(root):\n",
        "    nodes, edges = set(), set()\n",
        "    def build(v):\n",
        "        if v not in nodes:\n",
        "            nodes.add(v)\n",
        "            for child in v._prev:\n",
        "                edges.add((child, v))\n",
        "                build(child)\n",
        "    build(root)\n",
        "    return nodes, edges\n",
        "\n",
        "def draw_dot(root, format='svg', rankdir='LR'):\n",
        "    \"\"\"\n",
        "    format: png | svg | ...\n",
        "    rankdir: TB (top to bottom graph) | LR (left to right)\n",
        "    \"\"\"\n",
        "    assert rankdir in ['LR', 'TB']\n",
        "    nodes, edges = trace(root)\n",
        "    dot = Digraph(format=format, graph_attr={'rankdir': rankdir}) #, node_attr={'rankdir': 'TB'})\n",
        "\n",
        "    for n in nodes:\n",
        "        dot.node(name=str(id(n)), label = \"{ %s | data %.4f | grad %.4f }\" % (n.label, n.data, n.grad), shape='record')\n",
        "        if n._op:\n",
        "            dot.node(name=str(id(n)) + n._op, label=n._op)\n",
        "            dot.edge(str(id(n)) + n._op, str(id(n)))\n",
        "\n",
        "    for n1, n2 in edges:\n",
        "        dot.edge(str(id(n1)), str(id(n2)) + n2._op)\n",
        "\n",
        "    return dot"
      ],
      "metadata": {
        "id": "zYV2ooogqqfI"
      },
      "execution_count": 261,
      "outputs": []
    },
    {
      "cell_type": "markdown",
      "source": [
        "## Backpropagation with a Neuron"
      ],
      "metadata": {
        "id": "R83hutex6Pm1"
      }
    },
    {
      "cell_type": "code",
      "source": [
        "#input values\n",
        "x1 = Value(2.0, label=\"x1\")\n",
        "x2 = Value(0.0, label=\"x2\")\n",
        "\n",
        "#weight values\n",
        "w1 = Value(-3.0, label=\"w1\")\n",
        "w2 = Value(1.0, label=\"w2\")\n",
        "\n",
        "#bias of neuron\n",
        "b = Value(6.8813735870915432, label=\"b\")\n",
        "\n",
        "#x1w1 + x2w2 + b\n",
        "x1w1 = x1 * w1; x1w1.label = \"x1w1\"\n",
        "x2w2 = x2 * w2; x2w2.label = \"x2w2\"\n",
        "x1w1x2w2 = x1w1 + x2w2; x1w1x2w2.label = \"E(xw)\"\n",
        "n = x1w1x2w2 + b; n.label = \"n\"\n",
        "o = n.tanh(); o.label = \"o\"\n",
        "o.backward()"
      ],
      "metadata": {
        "id": "MMs4BY7TyhV_"
      },
      "execution_count": 262,
      "outputs": []
    },
    {
      "cell_type": "code",
      "source": [
        "draw_dot(o)"
      ],
      "metadata": {
        "id": "iRCUoz907E9r",
        "colab": {
          "base_uri": "https://localhost:8080/",
          "height": 322
        },
        "outputId": "d0e142ac-610c-4b14-889f-58fd8d49eb7b"
      },
      "execution_count": 263,
      "outputs": [
        {
          "output_type": "execute_result",
          "data": {
            "image/svg+xml": "<?xml version=\"1.0\" encoding=\"UTF-8\" standalone=\"no\"?>\n<!DOCTYPE svg PUBLIC \"-//W3C//DTD SVG 1.1//EN\"\n \"http://www.w3.org/Graphics/SVG/1.1/DTD/svg11.dtd\">\n<!-- Generated by graphviz version 2.43.0 (0)\n -->\n<!-- Title: %3 Pages: 1 -->\n<svg width=\"1513pt\" height=\"210pt\"\n viewBox=\"0.00 0.00 1513.00 210.00\" xmlns=\"http://www.w3.org/2000/svg\" xmlns:xlink=\"http://www.w3.org/1999/xlink\">\n<g id=\"graph0\" class=\"graph\" transform=\"scale(1 1) rotate(0) translate(4 206)\">\n<title>%3</title>\n<polygon fill=\"white\" stroke=\"transparent\" points=\"-4,4 -4,-206 1509,-206 1509,4 -4,4\"/>\n<!-- 135101583750672 -->\n<g id=\"node1\" class=\"node\">\n<title>135101583750672</title>\n<polygon fill=\"none\" stroke=\"black\" points=\"666,-82.5 666,-118.5 883,-118.5 883,-82.5 666,-82.5\"/>\n<text text-anchor=\"middle\" x=\"691\" y=\"-96.8\" font-family=\"Times,serif\" font-size=\"14.00\">E(xw)</text>\n<polyline fill=\"none\" stroke=\"black\" points=\"716,-82.5 716,-118.5 \"/>\n<text text-anchor=\"middle\" x=\"758.5\" y=\"-96.8\" font-family=\"Times,serif\" font-size=\"14.00\">data &#45;6.0000</text>\n<polyline fill=\"none\" stroke=\"black\" points=\"801,-82.5 801,-118.5 \"/>\n<text text-anchor=\"middle\" x=\"842\" y=\"-96.8\" font-family=\"Times,serif\" font-size=\"14.00\">grad 0.5000</text>\n</g>\n<!-- 135101583749904+ -->\n<g id=\"node10\" class=\"node\">\n<title>135101583749904+</title>\n<ellipse fill=\"none\" stroke=\"black\" cx=\"946\" cy=\"-127.5\" rx=\"27\" ry=\"18\"/>\n<text text-anchor=\"middle\" x=\"946\" y=\"-123.8\" font-family=\"Times,serif\" font-size=\"14.00\">+</text>\n</g>\n<!-- 135101583750672&#45;&gt;135101583749904+ -->\n<g id=\"edge11\" class=\"edge\">\n<title>135101583750672&#45;&gt;135101583749904+</title>\n<path fill=\"none\" stroke=\"black\" d=\"M883.33,-117.68C892.68,-119.17 901.63,-120.59 909.66,-121.87\"/>\n<polygon fill=\"black\" stroke=\"black\" points=\"909.23,-125.35 919.66,-123.46 910.33,-118.43 909.23,-125.35\"/>\n</g>\n<!-- 135101583750672+ -->\n<g id=\"node2\" class=\"node\">\n<title>135101583750672+</title>\n<ellipse fill=\"none\" stroke=\"black\" cx=\"603\" cy=\"-100.5\" rx=\"27\" ry=\"18\"/>\n<text text-anchor=\"middle\" x=\"603\" y=\"-96.8\" font-family=\"Times,serif\" font-size=\"14.00\">+</text>\n</g>\n<!-- 135101583750672+&#45;&gt;135101583750672 -->\n<g id=\"edge1\" class=\"edge\">\n<title>135101583750672+&#45;&gt;135101583750672</title>\n<path fill=\"none\" stroke=\"black\" d=\"M630.11,-100.5C637.55,-100.5 646.16,-100.5 655.4,-100.5\"/>\n<polygon fill=\"black\" stroke=\"black\" points=\"655.66,-104 665.66,-100.5 655.66,-97 655.66,-104\"/>\n</g>\n<!-- 135101583743520 -->\n<g id=\"node3\" class=\"node\">\n<title>135101583743520</title>\n<polygon fill=\"none\" stroke=\"black\" points=\"1320,-109.5 1320,-145.5 1505,-145.5 1505,-109.5 1320,-109.5\"/>\n<text text-anchor=\"middle\" x=\"1331.5\" y=\"-123.8\" font-family=\"Times,serif\" font-size=\"14.00\">o</text>\n<polyline fill=\"none\" stroke=\"black\" points=\"1343,-109.5 1343,-145.5 \"/>\n<text text-anchor=\"middle\" x=\"1383\" y=\"-123.8\" font-family=\"Times,serif\" font-size=\"14.00\">data 0.7071</text>\n<polyline fill=\"none\" stroke=\"black\" points=\"1423,-109.5 1423,-145.5 \"/>\n<text text-anchor=\"middle\" x=\"1464\" y=\"-123.8\" font-family=\"Times,serif\" font-size=\"14.00\">grad 1.0000</text>\n</g>\n<!-- 135101583743520tanh -->\n<g id=\"node4\" class=\"node\">\n<title>135101583743520tanh</title>\n<ellipse fill=\"none\" stroke=\"black\" cx=\"1257\" cy=\"-127.5\" rx=\"27\" ry=\"18\"/>\n<text text-anchor=\"middle\" x=\"1257\" y=\"-123.8\" font-family=\"Times,serif\" font-size=\"14.00\">tanh</text>\n</g>\n<!-- 135101583743520tanh&#45;&gt;135101583743520 -->\n<g id=\"edge2\" class=\"edge\">\n<title>135101583743520tanh&#45;&gt;135101583743520</title>\n<path fill=\"none\" stroke=\"black\" d=\"M1284.04,-127.5C1291.58,-127.5 1300.3,-127.5 1309.57,-127.5\"/>\n<polygon fill=\"black\" stroke=\"black\" points=\"1309.81,-131 1319.81,-127.5 1309.81,-124 1309.81,-131\"/>\n</g>\n<!-- 135101583749664 -->\n<g id=\"node5\" class=\"node\">\n<title>135101583749664</title>\n<polygon fill=\"none\" stroke=\"black\" points=\"2,-55.5 2,-91.5 198,-91.5 198,-55.5 2,-55.5\"/>\n<text text-anchor=\"middle\" x=\"17\" y=\"-69.8\" font-family=\"Times,serif\" font-size=\"14.00\">x1</text>\n<polyline fill=\"none\" stroke=\"black\" points=\"32,-55.5 32,-91.5 \"/>\n<text text-anchor=\"middle\" x=\"72\" y=\"-69.8\" font-family=\"Times,serif\" font-size=\"14.00\">data 2.0000</text>\n<polyline fill=\"none\" stroke=\"black\" points=\"112,-55.5 112,-91.5 \"/>\n<text text-anchor=\"middle\" x=\"155\" y=\"-69.8\" font-family=\"Times,serif\" font-size=\"14.00\">grad &#45;1.5000</text>\n</g>\n<!-- 135101583745488* -->\n<g id=\"node15\" class=\"node\">\n<title>135101583745488*</title>\n<ellipse fill=\"none\" stroke=\"black\" cx=\"263\" cy=\"-73.5\" rx=\"27\" ry=\"18\"/>\n<text text-anchor=\"middle\" x=\"263\" y=\"-69.8\" font-family=\"Times,serif\" font-size=\"14.00\">*</text>\n</g>\n<!-- 135101583749664&#45;&gt;135101583745488* -->\n<g id=\"edge8\" class=\"edge\">\n<title>135101583749664&#45;&gt;135101583745488*</title>\n<path fill=\"none\" stroke=\"black\" d=\"M198.37,-73.5C208.05,-73.5 217.4,-73.5 225.8,-73.5\"/>\n<polygon fill=\"black\" stroke=\"black\" points=\"225.91,-77 235.91,-73.5 225.91,-70 225.91,-77\"/>\n</g>\n<!-- 135101583743040 -->\n<g id=\"node6\" class=\"node\">\n<title>135101583743040</title>\n<polygon fill=\"none\" stroke=\"black\" points=\"682,-137.5 682,-173.5 867,-173.5 867,-137.5 682,-137.5\"/>\n<text text-anchor=\"middle\" x=\"693.5\" y=\"-151.8\" font-family=\"Times,serif\" font-size=\"14.00\">b</text>\n<polyline fill=\"none\" stroke=\"black\" points=\"705,-137.5 705,-173.5 \"/>\n<text text-anchor=\"middle\" x=\"745\" y=\"-151.8\" font-family=\"Times,serif\" font-size=\"14.00\">data 6.8814</text>\n<polyline fill=\"none\" stroke=\"black\" points=\"785,-137.5 785,-173.5 \"/>\n<text text-anchor=\"middle\" x=\"826\" y=\"-151.8\" font-family=\"Times,serif\" font-size=\"14.00\">grad 0.5000</text>\n</g>\n<!-- 135101583743040&#45;&gt;135101583749904+ -->\n<g id=\"edge9\" class=\"edge\">\n<title>135101583743040&#45;&gt;135101583749904+</title>\n<path fill=\"none\" stroke=\"black\" d=\"M867.2,-140.35C882.31,-137.86 897.13,-135.41 909.71,-133.33\"/>\n<polygon fill=\"black\" stroke=\"black\" points=\"910.41,-136.76 919.7,-131.68 909.27,-129.86 910.41,-136.76\"/>\n</g>\n<!-- 135101583742704 -->\n<g id=\"node7\" class=\"node\">\n<title>135101583742704</title>\n<polygon fill=\"none\" stroke=\"black\" points=\"4,-165.5 4,-201.5 196,-201.5 196,-165.5 4,-165.5\"/>\n<text text-anchor=\"middle\" x=\"19\" y=\"-179.8\" font-family=\"Times,serif\" font-size=\"14.00\">x2</text>\n<polyline fill=\"none\" stroke=\"black\" points=\"34,-165.5 34,-201.5 \"/>\n<text text-anchor=\"middle\" x=\"74\" y=\"-179.8\" font-family=\"Times,serif\" font-size=\"14.00\">data 0.0000</text>\n<polyline fill=\"none\" stroke=\"black\" points=\"114,-165.5 114,-201.5 \"/>\n<text text-anchor=\"middle\" x=\"155\" y=\"-179.8\" font-family=\"Times,serif\" font-size=\"14.00\">grad 0.5000</text>\n</g>\n<!-- 135101583738720* -->\n<g id=\"node12\" class=\"node\">\n<title>135101583738720*</title>\n<ellipse fill=\"none\" stroke=\"black\" cx=\"263\" cy=\"-128.5\" rx=\"27\" ry=\"18\"/>\n<text text-anchor=\"middle\" x=\"263\" y=\"-124.8\" font-family=\"Times,serif\" font-size=\"14.00\">*</text>\n</g>\n<!-- 135101583742704&#45;&gt;135101583738720* -->\n<g id=\"edge7\" class=\"edge\">\n<title>135101583742704&#45;&gt;135101583738720*</title>\n<path fill=\"none\" stroke=\"black\" d=\"M172.53,-165.44C181.84,-162.67 191.2,-159.67 200,-156.5 210.53,-152.71 221.75,-147.9 231.72,-143.33\"/>\n<polygon fill=\"black\" stroke=\"black\" points=\"233.25,-146.48 240.82,-139.07 230.28,-140.14 233.25,-146.48\"/>\n</g>\n<!-- 135101583752448 -->\n<g id=\"node8\" class=\"node\">\n<title>135101583752448</title>\n<polygon fill=\"none\" stroke=\"black\" points=\"2.5,-110.5 2.5,-146.5 197.5,-146.5 197.5,-110.5 2.5,-110.5\"/>\n<text text-anchor=\"middle\" x=\"19\" y=\"-124.8\" font-family=\"Times,serif\" font-size=\"14.00\">w2</text>\n<polyline fill=\"none\" stroke=\"black\" points=\"35.5,-110.5 35.5,-146.5 \"/>\n<text text-anchor=\"middle\" x=\"75.5\" y=\"-124.8\" font-family=\"Times,serif\" font-size=\"14.00\">data 1.0000</text>\n<polyline fill=\"none\" stroke=\"black\" points=\"115.5,-110.5 115.5,-146.5 \"/>\n<text text-anchor=\"middle\" x=\"156.5\" y=\"-124.8\" font-family=\"Times,serif\" font-size=\"14.00\">grad 0.0000</text>\n</g>\n<!-- 135101583752448&#45;&gt;135101583738720* -->\n<g id=\"edge14\" class=\"edge\">\n<title>135101583752448&#45;&gt;135101583738720*</title>\n<path fill=\"none\" stroke=\"black\" d=\"M197.91,-128.5C207.65,-128.5 217.05,-128.5 225.52,-128.5\"/>\n<polygon fill=\"black\" stroke=\"black\" points=\"225.7,-132 235.7,-128.5 225.7,-125 225.7,-132\"/>\n</g>\n<!-- 135101583749904 -->\n<g id=\"node9\" class=\"node\">\n<title>135101583749904</title>\n<polygon fill=\"none\" stroke=\"black\" points=\"1009,-109.5 1009,-145.5 1194,-145.5 1194,-109.5 1009,-109.5\"/>\n<text text-anchor=\"middle\" x=\"1020.5\" y=\"-123.8\" font-family=\"Times,serif\" font-size=\"14.00\">n</text>\n<polyline fill=\"none\" stroke=\"black\" points=\"1032,-109.5 1032,-145.5 \"/>\n<text text-anchor=\"middle\" x=\"1072\" y=\"-123.8\" font-family=\"Times,serif\" font-size=\"14.00\">data 0.8814</text>\n<polyline fill=\"none\" stroke=\"black\" points=\"1112,-109.5 1112,-145.5 \"/>\n<text text-anchor=\"middle\" x=\"1153\" y=\"-123.8\" font-family=\"Times,serif\" font-size=\"14.00\">grad 0.5000</text>\n</g>\n<!-- 135101583749904&#45;&gt;135101583743520tanh -->\n<g id=\"edge10\" class=\"edge\">\n<title>135101583749904&#45;&gt;135101583743520tanh</title>\n<path fill=\"none\" stroke=\"black\" d=\"M1194.01,-127.5C1203.01,-127.5 1211.74,-127.5 1219.66,-127.5\"/>\n<polygon fill=\"black\" stroke=\"black\" points=\"1219.91,-131 1229.91,-127.5 1219.91,-124 1219.91,-131\"/>\n</g>\n<!-- 135101583749904+&#45;&gt;135101583749904 -->\n<g id=\"edge3\" class=\"edge\">\n<title>135101583749904+&#45;&gt;135101583749904</title>\n<path fill=\"none\" stroke=\"black\" d=\"M973.04,-127.5C980.58,-127.5 989.3,-127.5 998.57,-127.5\"/>\n<polygon fill=\"black\" stroke=\"black\" points=\"998.81,-131 1008.81,-127.5 998.81,-124 998.81,-131\"/>\n</g>\n<!-- 135101583738720 -->\n<g id=\"node11\" class=\"node\">\n<title>135101583738720</title>\n<polygon fill=\"none\" stroke=\"black\" points=\"328.5,-110.5 328.5,-146.5 537.5,-146.5 537.5,-110.5 328.5,-110.5\"/>\n<text text-anchor=\"middle\" x=\"352\" y=\"-124.8\" font-family=\"Times,serif\" font-size=\"14.00\">x2w2</text>\n<polyline fill=\"none\" stroke=\"black\" points=\"375.5,-110.5 375.5,-146.5 \"/>\n<text text-anchor=\"middle\" x=\"415.5\" y=\"-124.8\" font-family=\"Times,serif\" font-size=\"14.00\">data 0.0000</text>\n<polyline fill=\"none\" stroke=\"black\" points=\"455.5,-110.5 455.5,-146.5 \"/>\n<text text-anchor=\"middle\" x=\"496.5\" y=\"-124.8\" font-family=\"Times,serif\" font-size=\"14.00\">grad 0.5000</text>\n</g>\n<!-- 135101583738720&#45;&gt;135101583750672+ -->\n<g id=\"edge13\" class=\"edge\">\n<title>135101583738720&#45;&gt;135101583750672+</title>\n<path fill=\"none\" stroke=\"black\" d=\"M537.53,-111.25C547.8,-109.53 557.66,-107.89 566.45,-106.43\"/>\n<polygon fill=\"black\" stroke=\"black\" points=\"567.3,-109.83 576.59,-104.74 566.15,-102.93 567.3,-109.83\"/>\n</g>\n<!-- 135101583738720*&#45;&gt;135101583738720 -->\n<g id=\"edge4\" class=\"edge\">\n<title>135101583738720*&#45;&gt;135101583738720</title>\n<path fill=\"none\" stroke=\"black\" d=\"M290.25,-128.5C298.43,-128.5 308.03,-128.5 318.31,-128.5\"/>\n<polygon fill=\"black\" stroke=\"black\" points=\"318.35,-132 328.35,-128.5 318.35,-125 318.35,-132\"/>\n</g>\n<!-- 135101583750576 -->\n<g id=\"node13\" class=\"node\">\n<title>135101583750576</title>\n<polygon fill=\"none\" stroke=\"black\" points=\"0,-0.5 0,-36.5 200,-36.5 200,-0.5 0,-0.5\"/>\n<text text-anchor=\"middle\" x=\"16.5\" y=\"-14.8\" font-family=\"Times,serif\" font-size=\"14.00\">w1</text>\n<polyline fill=\"none\" stroke=\"black\" points=\"33,-0.5 33,-36.5 \"/>\n<text text-anchor=\"middle\" x=\"75.5\" y=\"-14.8\" font-family=\"Times,serif\" font-size=\"14.00\">data &#45;3.0000</text>\n<polyline fill=\"none\" stroke=\"black\" points=\"118,-0.5 118,-36.5 \"/>\n<text text-anchor=\"middle\" x=\"159\" y=\"-14.8\" font-family=\"Times,serif\" font-size=\"14.00\">grad 1.0000</text>\n</g>\n<!-- 135101583750576&#45;&gt;135101583745488* -->\n<g id=\"edge6\" class=\"edge\">\n<title>135101583750576&#45;&gt;135101583745488*</title>\n<path fill=\"none\" stroke=\"black\" d=\"M169.28,-36.5C179.65,-39.61 190.16,-42.98 200,-46.5 210.28,-50.17 221.28,-54.74 231.11,-59.07\"/>\n<polygon fill=\"black\" stroke=\"black\" points=\"229.93,-62.37 240.48,-63.27 232.79,-55.99 229.93,-62.37\"/>\n</g>\n<!-- 135101583745488 -->\n<g id=\"node14\" class=\"node\">\n<title>135101583745488</title>\n<polygon fill=\"none\" stroke=\"black\" points=\"326,-55.5 326,-91.5 540,-91.5 540,-55.5 326,-55.5\"/>\n<text text-anchor=\"middle\" x=\"349.5\" y=\"-69.8\" font-family=\"Times,serif\" font-size=\"14.00\">x1w1</text>\n<polyline fill=\"none\" stroke=\"black\" points=\"373,-55.5 373,-91.5 \"/>\n<text text-anchor=\"middle\" x=\"415.5\" y=\"-69.8\" font-family=\"Times,serif\" font-size=\"14.00\">data &#45;6.0000</text>\n<polyline fill=\"none\" stroke=\"black\" points=\"458,-55.5 458,-91.5 \"/>\n<text text-anchor=\"middle\" x=\"499\" y=\"-69.8\" font-family=\"Times,serif\" font-size=\"14.00\">grad 0.5000</text>\n</g>\n<!-- 135101583745488&#45;&gt;135101583750672+ -->\n<g id=\"edge12\" class=\"edge\">\n<title>135101583745488&#45;&gt;135101583750672+</title>\n<path fill=\"none\" stroke=\"black\" d=\"M540.4,-90.6C549.72,-92.1 558.65,-93.53 566.68,-94.82\"/>\n<polygon fill=\"black\" stroke=\"black\" points=\"566.24,-98.3 576.66,-96.43 567.35,-91.39 566.24,-98.3\"/>\n</g>\n<!-- 135101583745488*&#45;&gt;135101583745488 -->\n<g id=\"edge5\" class=\"edge\">\n<title>135101583745488*&#45;&gt;135101583745488</title>\n<path fill=\"none\" stroke=\"black\" d=\"M290.25,-73.5C297.7,-73.5 306.34,-73.5 315.59,-73.5\"/>\n<polygon fill=\"black\" stroke=\"black\" points=\"315.84,-77 325.84,-73.5 315.84,-70 315.84,-77\"/>\n</g>\n</g>\n</svg>\n",
            "text/plain": [
              "<graphviz.graphs.Digraph at 0x7adfc9c1be50>"
            ]
          },
          "metadata": {},
          "execution_count": 263
        }
      ]
    },
    {
      "cell_type": "markdown",
      "source": [
        "We decide the level of complexity for our backpropgation implementation."
      ],
      "metadata": {
        "id": "sh0YZ0WJgTAy"
      }
    },
    {
      "cell_type": "code",
      "source": [
        "#input values\n",
        "x1 = Value(2.0, label=\"x1\")\n",
        "x2 = Value(0.0, label=\"x2\")\n",
        "\n",
        "#weight values\n",
        "w1 = Value(-3.0, label=\"w1\")\n",
        "w2 = Value(1.0, label=\"w2\")\n",
        "\n",
        "#bias of neuron\n",
        "b = Value(6.8813735870915432, label=\"b\")\n",
        "\n",
        "#x1w1 + x2w2 + b\n",
        "x1w1 = x1 * w1; x1w1.label = \"x1w1\"\n",
        "x2w2 = x2 * w2; x2w2.label = \"x2w2\"\n",
        "x1w1x2w2 = x1w1 + x2w2; x1w1x2w2.label = \"E(xw)\"\n",
        "n = x1w1x2w2 + b; n.label = \"n\"\n",
        "# ------\n",
        "e = (2*n).exp()\n",
        "o = (e-1)/(e+1)\n",
        "# -------\n",
        "o.label = \"o\"\n",
        "o.backward()\n",
        "draw_dot(o)"
      ],
      "metadata": {
        "colab": {
          "base_uri": "https://localhost:8080/",
          "height": 360
        },
        "id": "ULba4nayeV1W",
        "outputId": "a3617f92-f703-47f7-cabe-4591cf7f9f6e"
      },
      "execution_count": 264,
      "outputs": [
        {
          "output_type": "execute_result",
          "data": {
            "image/svg+xml": "<?xml version=\"1.0\" encoding=\"UTF-8\" standalone=\"no\"?>\n<!DOCTYPE svg PUBLIC \"-//W3C//DTD SVG 1.1//EN\"\n \"http://www.w3.org/Graphics/SVG/1.1/DTD/svg11.dtd\">\n<!-- Generated by graphviz version 2.43.0 (0)\n -->\n<!-- Title: %3 Pages: 1 -->\n<svg width=\"2882pt\" height=\"239pt\"\n viewBox=\"0.00 0.00 2882.00 239.00\" xmlns=\"http://www.w3.org/2000/svg\" xmlns:xlink=\"http://www.w3.org/1999/xlink\">\n<g id=\"graph0\" class=\"graph\" transform=\"scale(1 1) rotate(0) translate(4 235)\">\n<title>%3</title>\n<polygon fill=\"white\" stroke=\"transparent\" points=\"-4,4 -4,-235 2878,-235 2878,4 -4,4\"/>\n<!-- 135101583753120 -->\n<g id=\"node1\" class=\"node\">\n<title>135101583753120</title>\n<polygon fill=\"none\" stroke=\"black\" points=\"2381,-80.5 2381,-116.5 2563,-116.5 2563,-80.5 2381,-80.5\"/>\n<text text-anchor=\"middle\" x=\"2391\" y=\"-94.8\" font-family=\"Times,serif\" font-size=\"14.00\"> </text>\n<polyline fill=\"none\" stroke=\"black\" points=\"2401,-80.5 2401,-116.5 \"/>\n<text text-anchor=\"middle\" x=\"2441\" y=\"-94.8\" font-family=\"Times,serif\" font-size=\"14.00\">data 0.1464</text>\n<polyline fill=\"none\" stroke=\"black\" points=\"2481,-80.5 2481,-116.5 \"/>\n<text text-anchor=\"middle\" x=\"2522\" y=\"-94.8\" font-family=\"Times,serif\" font-size=\"14.00\">grad 4.8284</text>\n</g>\n<!-- 135101583748944* -->\n<g id=\"node25\" class=\"node\">\n<title>135101583748944*</title>\n<ellipse fill=\"none\" stroke=\"black\" cx=\"2626\" cy=\"-72.5\" rx=\"27\" ry=\"18\"/>\n<text text-anchor=\"middle\" x=\"2626\" y=\"-68.8\" font-family=\"Times,serif\" font-size=\"14.00\">*</text>\n</g>\n<!-- 135101583753120&#45;&gt;135101583748944* -->\n<g id=\"edge16\" class=\"edge\">\n<title>135101583753120&#45;&gt;135101583748944*</title>\n<path fill=\"none\" stroke=\"black\" d=\"M2563.18,-83.08C2572.42,-81.49 2581.38,-79.96 2589.47,-78.58\"/>\n<polygon fill=\"black\" stroke=\"black\" points=\"2590.29,-81.99 2599.56,-76.85 2589.11,-75.09 2590.29,-81.99\"/>\n</g>\n<!-- 135101583753120**&#45;1 -->\n<g id=\"node2\" class=\"node\">\n<title>135101583753120**&#45;1</title>\n<ellipse fill=\"none\" stroke=\"black\" cx=\"2254\" cy=\"-100.5\" rx=\"27\" ry=\"18\"/>\n<text text-anchor=\"middle\" x=\"2254\" y=\"-96.8\" font-family=\"Times,serif\" font-size=\"14.00\">**&#45;1</text>\n</g>\n<!-- 135101583753120**&#45;1&#45;&gt;135101583753120 -->\n<g id=\"edge1\" class=\"edge\">\n<title>135101583753120**&#45;1&#45;&gt;135101583753120</title>\n<path fill=\"none\" stroke=\"black\" d=\"M2281.05,-100.26C2303.53,-100.05 2337.48,-99.74 2370.5,-99.43\"/>\n<polygon fill=\"black\" stroke=\"black\" points=\"2370.74,-102.93 2380.7,-99.34 2370.67,-95.93 2370.74,-102.93\"/>\n</g>\n<!-- 135101584000624 -->\n<g id=\"node3\" class=\"node\">\n<title>135101584000624</title>\n<polygon fill=\"none\" stroke=\"black\" points=\"2.5,-84.5 2.5,-120.5 197.5,-120.5 197.5,-84.5 2.5,-84.5\"/>\n<text text-anchor=\"middle\" x=\"19\" y=\"-98.8\" font-family=\"Times,serif\" font-size=\"14.00\">w2</text>\n<polyline fill=\"none\" stroke=\"black\" points=\"35.5,-84.5 35.5,-120.5 \"/>\n<text text-anchor=\"middle\" x=\"75.5\" y=\"-98.8\" font-family=\"Times,serif\" font-size=\"14.00\">data 1.0000</text>\n<polyline fill=\"none\" stroke=\"black\" points=\"115.5,-84.5 115.5,-120.5 \"/>\n<text text-anchor=\"middle\" x=\"156.5\" y=\"-98.8\" font-family=\"Times,serif\" font-size=\"14.00\">grad 0.0000</text>\n</g>\n<!-- 135101583747888* -->\n<g id=\"node23\" class=\"node\">\n<title>135101583747888*</title>\n<ellipse fill=\"none\" stroke=\"black\" cx=\"263\" cy=\"-102.5\" rx=\"27\" ry=\"18\"/>\n<text text-anchor=\"middle\" x=\"263\" y=\"-98.8\" font-family=\"Times,serif\" font-size=\"14.00\">*</text>\n</g>\n<!-- 135101584000624&#45;&gt;135101583747888* -->\n<g id=\"edge21\" class=\"edge\">\n<title>135101584000624&#45;&gt;135101583747888*</title>\n<path fill=\"none\" stroke=\"black\" d=\"M197.91,-102.5C207.65,-102.5 217.05,-102.5 225.52,-102.5\"/>\n<polygon fill=\"black\" stroke=\"black\" points=\"225.7,-106 235.7,-102.5 225.7,-99 225.7,-106\"/>\n</g>\n<!-- 135101584004224 -->\n<g id=\"node4\" class=\"node\">\n<title>135101584004224</title>\n<polygon fill=\"none\" stroke=\"black\" points=\"326,-139.5 326,-175.5 540,-175.5 540,-139.5 326,-139.5\"/>\n<text text-anchor=\"middle\" x=\"349.5\" y=\"-153.8\" font-family=\"Times,serif\" font-size=\"14.00\">x1w1</text>\n<polyline fill=\"none\" stroke=\"black\" points=\"373,-139.5 373,-175.5 \"/>\n<text text-anchor=\"middle\" x=\"415.5\" y=\"-153.8\" font-family=\"Times,serif\" font-size=\"14.00\">data &#45;6.0000</text>\n<polyline fill=\"none\" stroke=\"black\" points=\"458,-139.5 458,-175.5 \"/>\n<text text-anchor=\"middle\" x=\"499\" y=\"-153.8\" font-family=\"Times,serif\" font-size=\"14.00\">grad 0.5000</text>\n</g>\n<!-- 135101583751920+ -->\n<g id=\"node17\" class=\"node\">\n<title>135101583751920+</title>\n<ellipse fill=\"none\" stroke=\"black\" cx=\"603\" cy=\"-129.5\" rx=\"27\" ry=\"18\"/>\n<text text-anchor=\"middle\" x=\"603\" y=\"-125.8\" font-family=\"Times,serif\" font-size=\"14.00\">+</text>\n</g>\n<!-- 135101584004224&#45;&gt;135101583751920+ -->\n<g id=\"edge25\" class=\"edge\">\n<title>135101584004224&#45;&gt;135101583751920+</title>\n<path fill=\"none\" stroke=\"black\" d=\"M540.4,-139.77C549.72,-138.21 558.65,-136.72 566.68,-135.39\"/>\n<polygon fill=\"black\" stroke=\"black\" points=\"567.38,-138.82 576.66,-133.72 566.22,-131.91 567.38,-138.82\"/>\n</g>\n<!-- 135101584004224* -->\n<g id=\"node5\" class=\"node\">\n<title>135101584004224*</title>\n<ellipse fill=\"none\" stroke=\"black\" cx=\"263\" cy=\"-157.5\" rx=\"27\" ry=\"18\"/>\n<text text-anchor=\"middle\" x=\"263\" y=\"-153.8\" font-family=\"Times,serif\" font-size=\"14.00\">*</text>\n</g>\n<!-- 135101584004224*&#45;&gt;135101584004224 -->\n<g id=\"edge2\" class=\"edge\">\n<title>135101584004224*&#45;&gt;135101584004224</title>\n<path fill=\"none\" stroke=\"black\" d=\"M290.25,-157.5C297.7,-157.5 306.34,-157.5 315.59,-157.5\"/>\n<polygon fill=\"black\" stroke=\"black\" points=\"315.84,-161 325.84,-157.5 315.84,-154 315.84,-161\"/>\n</g>\n<!-- 135101583745680 -->\n<g id=\"node6\" class=\"node\">\n<title>135101583745680</title>\n<polygon fill=\"none\" stroke=\"black\" points=\"1628.5,-110.5 1628.5,-146.5 1814.5,-146.5 1814.5,-110.5 1628.5,-110.5\"/>\n<text text-anchor=\"middle\" x=\"1638.5\" y=\"-124.8\" font-family=\"Times,serif\" font-size=\"14.00\"> </text>\n<polyline fill=\"none\" stroke=\"black\" points=\"1648.5,-110.5 1648.5,-146.5 \"/>\n<text text-anchor=\"middle\" x=\"1688.5\" y=\"-124.8\" font-family=\"Times,serif\" font-size=\"14.00\">data 1.0000</text>\n<polyline fill=\"none\" stroke=\"black\" points=\"1728.5,-110.5 1728.5,-146.5 \"/>\n<text text-anchor=\"middle\" x=\"1771.5\" y=\"-124.8\" font-family=\"Times,serif\" font-size=\"14.00\">grad &#45;0.1036</text>\n</g>\n<!-- 135101583748800+ -->\n<g id=\"node21\" class=\"node\">\n<title>135101583748800+</title>\n<ellipse fill=\"none\" stroke=\"black\" cx=\"1878\" cy=\"-100.5\" rx=\"27\" ry=\"18\"/>\n<text text-anchor=\"middle\" x=\"1878\" y=\"-96.8\" font-family=\"Times,serif\" font-size=\"14.00\">+</text>\n</g>\n<!-- 135101583745680&#45;&gt;135101583748800+ -->\n<g id=\"edge27\" class=\"edge\">\n<title>135101583745680&#45;&gt;135101583748800+</title>\n<path fill=\"none\" stroke=\"black\" d=\"M1814.6,-111.81C1824.15,-110.08 1833.37,-108.41 1841.68,-106.9\"/>\n<polygon fill=\"black\" stroke=\"black\" points=\"1842.43,-110.32 1851.65,-105.09 1841.18,-103.43 1842.43,-110.32\"/>\n</g>\n<!-- 135101583746208 -->\n<g id=\"node7\" class=\"node\">\n<title>135101583746208</title>\n<polygon fill=\"none\" stroke=\"black\" points=\"1630.5,-55.5 1630.5,-91.5 1812.5,-91.5 1812.5,-55.5 1630.5,-55.5\"/>\n<text text-anchor=\"middle\" x=\"1640.5\" y=\"-69.8\" font-family=\"Times,serif\" font-size=\"14.00\"> </text>\n<polyline fill=\"none\" stroke=\"black\" points=\"1650.5,-55.5 1650.5,-91.5 \"/>\n<text text-anchor=\"middle\" x=\"1690.5\" y=\"-69.8\" font-family=\"Times,serif\" font-size=\"14.00\">data 5.8284</text>\n<polyline fill=\"none\" stroke=\"black\" points=\"1730.5,-55.5 1730.5,-91.5 \"/>\n<text text-anchor=\"middle\" x=\"1771.5\" y=\"-69.8\" font-family=\"Times,serif\" font-size=\"14.00\">grad 0.0429</text>\n</g>\n<!-- 135101583746736+ -->\n<g id=\"node10\" class=\"node\">\n<title>135101583746736+</title>\n<ellipse fill=\"none\" stroke=\"black\" cx=\"1878\" cy=\"-45.5\" rx=\"27\" ry=\"18\"/>\n<text text-anchor=\"middle\" x=\"1878\" y=\"-41.8\" font-family=\"Times,serif\" font-size=\"14.00\">+</text>\n</g>\n<!-- 135101583746208&#45;&gt;135101583746736+ -->\n<g id=\"edge20\" class=\"edge\">\n<title>135101583746208&#45;&gt;135101583746736+</title>\n<path fill=\"none\" stroke=\"black\" d=\"M1812.82,-57.13C1823.07,-55.27 1833.01,-53.47 1841.88,-51.87\"/>\n<polygon fill=\"black\" stroke=\"black\" points=\"1842.54,-55.3 1851.75,-50.08 1841.29,-48.42 1842.54,-55.3\"/>\n</g>\n<!-- 135101583746208&#45;&gt;135101583748800+ -->\n<g id=\"edge12\" class=\"edge\">\n<title>135101583746208&#45;&gt;135101583748800+</title>\n<path fill=\"none\" stroke=\"black\" d=\"M1812.82,-89.28C1823.07,-91.08 1833.01,-92.81 1841.88,-94.36\"/>\n<polygon fill=\"black\" stroke=\"black\" points=\"1841.3,-97.81 1851.75,-96.09 1842.5,-90.92 1841.3,-97.81\"/>\n</g>\n<!-- 135101583746208exp -->\n<g id=\"node8\" class=\"node\">\n<title>135101583746208exp</title>\n<ellipse fill=\"none\" stroke=\"black\" cx=\"1565\" cy=\"-73.5\" rx=\"27\" ry=\"18\"/>\n<text text-anchor=\"middle\" x=\"1565\" y=\"-69.8\" font-family=\"Times,serif\" font-size=\"14.00\">exp</text>\n</g>\n<!-- 135101583746208exp&#45;&gt;135101583746208 -->\n<g id=\"edge3\" class=\"edge\">\n<title>135101583746208exp&#45;&gt;135101583746208</title>\n<path fill=\"none\" stroke=\"black\" d=\"M1592.21,-73.5C1600.34,-73.5 1609.85,-73.5 1619.94,-73.5\"/>\n<polygon fill=\"black\" stroke=\"black\" points=\"1620.19,-77 1630.19,-73.5 1620.19,-70 1620.19,-77\"/>\n</g>\n<!-- 135101583746736 -->\n<g id=\"node9\" class=\"node\">\n<title>135101583746736</title>\n<polygon fill=\"none\" stroke=\"black\" points=\"2163,-27.5 2163,-63.5 2345,-63.5 2345,-27.5 2163,-27.5\"/>\n<text text-anchor=\"middle\" x=\"2173\" y=\"-41.8\" font-family=\"Times,serif\" font-size=\"14.00\"> </text>\n<polyline fill=\"none\" stroke=\"black\" points=\"2183,-27.5 2183,-63.5 \"/>\n<text text-anchor=\"middle\" x=\"2223\" y=\"-41.8\" font-family=\"Times,serif\" font-size=\"14.00\">data 4.8284</text>\n<polyline fill=\"none\" stroke=\"black\" points=\"2263,-27.5 2263,-63.5 \"/>\n<text text-anchor=\"middle\" x=\"2304\" y=\"-41.8\" font-family=\"Times,serif\" font-size=\"14.00\">grad 0.1464</text>\n</g>\n<!-- 135101583746736&#45;&gt;135101583748944* -->\n<g id=\"edge18\" class=\"edge\">\n<title>135101583746736&#45;&gt;135101583748944*</title>\n<path fill=\"none\" stroke=\"black\" d=\"M2345.04,-52.07C2423.41,-57.79 2532.98,-65.79 2588.96,-69.87\"/>\n<polygon fill=\"black\" stroke=\"black\" points=\"2588.87,-73.37 2599.1,-70.61 2589.38,-66.39 2588.87,-73.37\"/>\n</g>\n<!-- 135101583746736+&#45;&gt;135101583746736 -->\n<g id=\"edge4\" class=\"edge\">\n<title>135101583746736+&#45;&gt;135101583746736</title>\n<path fill=\"none\" stroke=\"black\" d=\"M1905,-45.5C1955.46,-45.5 2069.06,-45.5 2152.81,-45.5\"/>\n<polygon fill=\"black\" stroke=\"black\" points=\"2152.87,-49 2162.87,-45.5 2152.87,-42 2152.87,-49\"/>\n</g>\n<!-- 135101583748272 -->\n<g id=\"node11\" class=\"node\">\n<title>135101583748272</title>\n<polygon fill=\"none\" stroke=\"black\" points=\"1320,-55.5 1320,-91.5 1502,-91.5 1502,-55.5 1320,-55.5\"/>\n<text text-anchor=\"middle\" x=\"1330\" y=\"-69.8\" font-family=\"Times,serif\" font-size=\"14.00\"> </text>\n<polyline fill=\"none\" stroke=\"black\" points=\"1340,-55.5 1340,-91.5 \"/>\n<text text-anchor=\"middle\" x=\"1380\" y=\"-69.8\" font-family=\"Times,serif\" font-size=\"14.00\">data 1.7627</text>\n<polyline fill=\"none\" stroke=\"black\" points=\"1420,-55.5 1420,-91.5 \"/>\n<text text-anchor=\"middle\" x=\"1461\" y=\"-69.8\" font-family=\"Times,serif\" font-size=\"14.00\">grad 0.2500</text>\n</g>\n<!-- 135101583748272&#45;&gt;135101583746208exp -->\n<g id=\"edge17\" class=\"edge\">\n<title>135101583748272&#45;&gt;135101583746208exp</title>\n<path fill=\"none\" stroke=\"black\" d=\"M1502.18,-73.5C1511.14,-73.5 1519.83,-73.5 1527.73,-73.5\"/>\n<polygon fill=\"black\" stroke=\"black\" points=\"1527.96,-77 1537.96,-73.5 1527.96,-70 1527.96,-77\"/>\n</g>\n<!-- 135101583748272* -->\n<g id=\"node12\" class=\"node\">\n<title>135101583748272*</title>\n<ellipse fill=\"none\" stroke=\"black\" cx=\"1257\" cy=\"-73.5\" rx=\"27\" ry=\"18\"/>\n<text text-anchor=\"middle\" x=\"1257\" y=\"-69.8\" font-family=\"Times,serif\" font-size=\"14.00\">*</text>\n</g>\n<!-- 135101583748272*&#45;&gt;135101583748272 -->\n<g id=\"edge5\" class=\"edge\">\n<title>135101583748272*&#45;&gt;135101583748272</title>\n<path fill=\"none\" stroke=\"black\" d=\"M1284.13,-73.5C1291.67,-73.5 1300.39,-73.5 1309.64,-73.5\"/>\n<polygon fill=\"black\" stroke=\"black\" points=\"1309.87,-77 1319.87,-73.5 1309.87,-70 1309.87,-77\"/>\n</g>\n<!-- 135101583749328 -->\n<g id=\"node13\" class=\"node\">\n<title>135101583749328</title>\n<polygon fill=\"none\" stroke=\"black\" points=\"1009,-83.5 1009,-119.5 1194,-119.5 1194,-83.5 1009,-83.5\"/>\n<text text-anchor=\"middle\" x=\"1020.5\" y=\"-97.8\" font-family=\"Times,serif\" font-size=\"14.00\">n</text>\n<polyline fill=\"none\" stroke=\"black\" points=\"1032,-83.5 1032,-119.5 \"/>\n<text text-anchor=\"middle\" x=\"1072\" y=\"-97.8\" font-family=\"Times,serif\" font-size=\"14.00\">data 0.8814</text>\n<polyline fill=\"none\" stroke=\"black\" points=\"1112,-83.5 1112,-119.5 \"/>\n<text text-anchor=\"middle\" x=\"1153\" y=\"-97.8\" font-family=\"Times,serif\" font-size=\"14.00\">grad 0.5000</text>\n</g>\n<!-- 135101583749328&#45;&gt;135101583748272* -->\n<g id=\"edge19\" class=\"edge\">\n<title>135101583749328&#45;&gt;135101583748272*</title>\n<path fill=\"none\" stroke=\"black\" d=\"M1194.01,-84.81C1203.49,-83.08 1212.66,-81.41 1220.9,-79.9\"/>\n<polygon fill=\"black\" stroke=\"black\" points=\"1221.6,-83.33 1230.81,-78.09 1220.35,-76.45 1221.6,-83.33\"/>\n</g>\n<!-- 135101583749328+ -->\n<g id=\"node14\" class=\"node\">\n<title>135101583749328+</title>\n<ellipse fill=\"none\" stroke=\"black\" cx=\"946\" cy=\"-101.5\" rx=\"27\" ry=\"18\"/>\n<text text-anchor=\"middle\" x=\"946\" y=\"-97.8\" font-family=\"Times,serif\" font-size=\"14.00\">+</text>\n</g>\n<!-- 135101583749328+&#45;&gt;135101583749328 -->\n<g id=\"edge6\" class=\"edge\">\n<title>135101583749328+&#45;&gt;135101583749328</title>\n<path fill=\"none\" stroke=\"black\" d=\"M973.04,-101.5C980.58,-101.5 989.3,-101.5 998.57,-101.5\"/>\n<polygon fill=\"black\" stroke=\"black\" points=\"998.81,-105 1008.81,-101.5 998.81,-98 998.81,-105\"/>\n</g>\n<!-- 135101584002976 -->\n<g id=\"node15\" class=\"node\">\n<title>135101584002976</title>\n<polygon fill=\"none\" stroke=\"black\" points=\"4,-29.5 4,-65.5 196,-65.5 196,-29.5 4,-29.5\"/>\n<text text-anchor=\"middle\" x=\"19\" y=\"-43.8\" font-family=\"Times,serif\" font-size=\"14.00\">x2</text>\n<polyline fill=\"none\" stroke=\"black\" points=\"34,-29.5 34,-65.5 \"/>\n<text text-anchor=\"middle\" x=\"74\" y=\"-43.8\" font-family=\"Times,serif\" font-size=\"14.00\">data 0.0000</text>\n<polyline fill=\"none\" stroke=\"black\" points=\"114,-29.5 114,-65.5 \"/>\n<text text-anchor=\"middle\" x=\"155\" y=\"-43.8\" font-family=\"Times,serif\" font-size=\"14.00\">grad 0.5000</text>\n</g>\n<!-- 135101584002976&#45;&gt;135101583747888* -->\n<g id=\"edge13\" class=\"edge\">\n<title>135101584002976&#45;&gt;135101583747888*</title>\n<path fill=\"none\" stroke=\"black\" d=\"M172.53,-65.56C181.84,-68.33 191.2,-71.33 200,-74.5 210.53,-78.29 221.75,-83.1 231.72,-87.67\"/>\n<polygon fill=\"black\" stroke=\"black\" points=\"230.28,-90.86 240.82,-91.93 233.25,-84.52 230.28,-90.86\"/>\n</g>\n<!-- 135101583751920 -->\n<g id=\"node16\" class=\"node\">\n<title>135101583751920</title>\n<polygon fill=\"none\" stroke=\"black\" points=\"666,-111.5 666,-147.5 883,-147.5 883,-111.5 666,-111.5\"/>\n<text text-anchor=\"middle\" x=\"691\" y=\"-125.8\" font-family=\"Times,serif\" font-size=\"14.00\">E(xw)</text>\n<polyline fill=\"none\" stroke=\"black\" points=\"716,-111.5 716,-147.5 \"/>\n<text text-anchor=\"middle\" x=\"758.5\" y=\"-125.8\" font-family=\"Times,serif\" font-size=\"14.00\">data &#45;6.0000</text>\n<polyline fill=\"none\" stroke=\"black\" points=\"801,-111.5 801,-147.5 \"/>\n<text text-anchor=\"middle\" x=\"842\" y=\"-125.8\" font-family=\"Times,serif\" font-size=\"14.00\">grad 0.5000</text>\n</g>\n<!-- 135101583751920&#45;&gt;135101583749328+ -->\n<g id=\"edge28\" class=\"edge\">\n<title>135101583751920&#45;&gt;135101583749328+</title>\n<path fill=\"none\" stroke=\"black\" d=\"M883.33,-111.69C892.68,-110.14 901.63,-108.67 909.66,-107.34\"/>\n<polygon fill=\"black\" stroke=\"black\" points=\"910.36,-110.77 919.66,-105.69 909.22,-103.86 910.36,-110.77\"/>\n</g>\n<!-- 135101583751920+&#45;&gt;135101583751920 -->\n<g id=\"edge7\" class=\"edge\">\n<title>135101583751920+&#45;&gt;135101583751920</title>\n<path fill=\"none\" stroke=\"black\" d=\"M630.11,-129.5C637.55,-129.5 646.16,-129.5 655.4,-129.5\"/>\n<polygon fill=\"black\" stroke=\"black\" points=\"655.66,-133 665.66,-129.5 655.66,-126 655.66,-133\"/>\n</g>\n<!-- 135101583745248 -->\n<g id=\"node18\" class=\"node\">\n<title>135101583745248</title>\n<polygon fill=\"none\" stroke=\"black\" points=\"1628,-0.5 1628,-36.5 1815,-36.5 1815,-0.5 1628,-0.5\"/>\n<text text-anchor=\"middle\" x=\"1638\" y=\"-14.8\" font-family=\"Times,serif\" font-size=\"14.00\"> </text>\n<polyline fill=\"none\" stroke=\"black\" points=\"1648,-0.5 1648,-36.5 \"/>\n<text text-anchor=\"middle\" x=\"1690.5\" y=\"-14.8\" font-family=\"Times,serif\" font-size=\"14.00\">data &#45;1.0000</text>\n<polyline fill=\"none\" stroke=\"black\" points=\"1733,-0.5 1733,-36.5 \"/>\n<text text-anchor=\"middle\" x=\"1774\" y=\"-14.8\" font-family=\"Times,serif\" font-size=\"14.00\">grad 0.1464</text>\n</g>\n<!-- 135101583745248&#45;&gt;135101583746736+ -->\n<g id=\"edge24\" class=\"edge\">\n<title>135101583745248&#45;&gt;135101583746736+</title>\n<path fill=\"none\" stroke=\"black\" d=\"M1815.05,-34.67C1824.34,-36.3 1833.33,-37.87 1841.44,-39.29\"/>\n<polygon fill=\"black\" stroke=\"black\" points=\"1841.1,-42.78 1851.55,-41.05 1842.3,-35.88 1841.1,-42.78\"/>\n</g>\n<!-- 135101583999760 -->\n<g id=\"node19\" class=\"node\">\n<title>135101583999760</title>\n<polygon fill=\"none\" stroke=\"black\" points=\"682,-56.5 682,-92.5 867,-92.5 867,-56.5 682,-56.5\"/>\n<text text-anchor=\"middle\" x=\"693.5\" y=\"-70.8\" font-family=\"Times,serif\" font-size=\"14.00\">b</text>\n<polyline fill=\"none\" stroke=\"black\" points=\"705,-56.5 705,-92.5 \"/>\n<text text-anchor=\"middle\" x=\"745\" y=\"-70.8\" font-family=\"Times,serif\" font-size=\"14.00\">data 6.8814</text>\n<polyline fill=\"none\" stroke=\"black\" points=\"785,-56.5 785,-92.5 \"/>\n<text text-anchor=\"middle\" x=\"826\" y=\"-70.8\" font-family=\"Times,serif\" font-size=\"14.00\">grad 0.5000</text>\n</g>\n<!-- 135101583999760&#45;&gt;135101583749328+ -->\n<g id=\"edge22\" class=\"edge\">\n<title>135101583999760&#45;&gt;135101583749328+</title>\n<path fill=\"none\" stroke=\"black\" d=\"M867.2,-89.11C882.19,-91.49 896.89,-93.84 909.4,-95.83\"/>\n<polygon fill=\"black\" stroke=\"black\" points=\"908.93,-99.3 919.36,-97.42 910.03,-92.39 908.93,-99.3\"/>\n</g>\n<!-- 135101583748800 -->\n<g id=\"node20\" class=\"node\">\n<title>135101583748800</title>\n<polygon fill=\"none\" stroke=\"black\" points=\"1941,-82.5 1941,-118.5 2127,-118.5 2127,-82.5 1941,-82.5\"/>\n<text text-anchor=\"middle\" x=\"1951\" y=\"-96.8\" font-family=\"Times,serif\" font-size=\"14.00\"> </text>\n<polyline fill=\"none\" stroke=\"black\" points=\"1961,-82.5 1961,-118.5 \"/>\n<text text-anchor=\"middle\" x=\"2001\" y=\"-96.8\" font-family=\"Times,serif\" font-size=\"14.00\">data 6.8284</text>\n<polyline fill=\"none\" stroke=\"black\" points=\"2041,-82.5 2041,-118.5 \"/>\n<text text-anchor=\"middle\" x=\"2084\" y=\"-96.8\" font-family=\"Times,serif\" font-size=\"14.00\">grad &#45;0.1036</text>\n</g>\n<!-- 135101583748800&#45;&gt;135101583753120**&#45;1 -->\n<g id=\"edge11\" class=\"edge\">\n<title>135101583748800&#45;&gt;135101583753120**&#45;1</title>\n<path fill=\"none\" stroke=\"black\" d=\"M2127.14,-100.5C2158.72,-100.5 2192.24,-100.5 2216.74,-100.5\"/>\n<polygon fill=\"black\" stroke=\"black\" points=\"2216.98,-104 2226.98,-100.5 2216.98,-97 2216.98,-104\"/>\n</g>\n<!-- 135101583748800+&#45;&gt;135101583748800 -->\n<g id=\"edge8\" class=\"edge\">\n<title>135101583748800+&#45;&gt;135101583748800</title>\n<path fill=\"none\" stroke=\"black\" d=\"M1905.12,-100.5C1912.62,-100.5 1921.29,-100.5 1930.5,-100.5\"/>\n<polygon fill=\"black\" stroke=\"black\" points=\"1930.69,-104 1940.69,-100.5 1930.69,-97 1930.69,-104\"/>\n</g>\n<!-- 135101583747888 -->\n<g id=\"node22\" class=\"node\">\n<title>135101583747888</title>\n<polygon fill=\"none\" stroke=\"black\" points=\"328.5,-84.5 328.5,-120.5 537.5,-120.5 537.5,-84.5 328.5,-84.5\"/>\n<text text-anchor=\"middle\" x=\"352\" y=\"-98.8\" font-family=\"Times,serif\" font-size=\"14.00\">x2w2</text>\n<polyline fill=\"none\" stroke=\"black\" points=\"375.5,-84.5 375.5,-120.5 \"/>\n<text text-anchor=\"middle\" x=\"415.5\" y=\"-98.8\" font-family=\"Times,serif\" font-size=\"14.00\">data 0.0000</text>\n<polyline fill=\"none\" stroke=\"black\" points=\"455.5,-84.5 455.5,-120.5 \"/>\n<text text-anchor=\"middle\" x=\"496.5\" y=\"-98.8\" font-family=\"Times,serif\" font-size=\"14.00\">grad 0.5000</text>\n</g>\n<!-- 135101583747888&#45;&gt;135101583751920+ -->\n<g id=\"edge15\" class=\"edge\">\n<title>135101583747888&#45;&gt;135101583751920+</title>\n<path fill=\"none\" stroke=\"black\" d=\"M537.53,-119.14C547.8,-120.79 557.66,-122.37 566.45,-123.79\"/>\n<polygon fill=\"black\" stroke=\"black\" points=\"566.16,-127.28 576.59,-125.42 567.27,-120.37 566.16,-127.28\"/>\n</g>\n<!-- 135101583747888*&#45;&gt;135101583747888 -->\n<g id=\"edge9\" class=\"edge\">\n<title>135101583747888*&#45;&gt;135101583747888</title>\n<path fill=\"none\" stroke=\"black\" d=\"M290.25,-102.5C298.43,-102.5 308.03,-102.5 318.31,-102.5\"/>\n<polygon fill=\"black\" stroke=\"black\" points=\"318.35,-106 328.35,-102.5 318.35,-99 318.35,-106\"/>\n</g>\n<!-- 135101583748944 -->\n<g id=\"node24\" class=\"node\">\n<title>135101583748944</title>\n<polygon fill=\"none\" stroke=\"black\" points=\"2689,-54.5 2689,-90.5 2874,-90.5 2874,-54.5 2689,-54.5\"/>\n<text text-anchor=\"middle\" x=\"2700.5\" y=\"-68.8\" font-family=\"Times,serif\" font-size=\"14.00\">o</text>\n<polyline fill=\"none\" stroke=\"black\" points=\"2712,-54.5 2712,-90.5 \"/>\n<text text-anchor=\"middle\" x=\"2752\" y=\"-68.8\" font-family=\"Times,serif\" font-size=\"14.00\">data 0.7071</text>\n<polyline fill=\"none\" stroke=\"black\" points=\"2792,-54.5 2792,-90.5 \"/>\n<text text-anchor=\"middle\" x=\"2833\" y=\"-68.8\" font-family=\"Times,serif\" font-size=\"14.00\">grad 1.0000</text>\n</g>\n<!-- 135101583748944*&#45;&gt;135101583748944 -->\n<g id=\"edge10\" class=\"edge\">\n<title>135101583748944*&#45;&gt;135101583748944</title>\n<path fill=\"none\" stroke=\"black\" d=\"M2653.04,-72.5C2660.58,-72.5 2669.3,-72.5 2678.57,-72.5\"/>\n<polygon fill=\"black\" stroke=\"black\" points=\"2678.81,-76 2688.81,-72.5 2678.81,-69 2678.81,-76\"/>\n</g>\n<!-- 135101584004512 -->\n<g id=\"node26\" class=\"node\">\n<title>135101584004512</title>\n<polygon fill=\"none\" stroke=\"black\" points=\"0,-194.5 0,-230.5 200,-230.5 200,-194.5 0,-194.5\"/>\n<text text-anchor=\"middle\" x=\"16.5\" y=\"-208.8\" font-family=\"Times,serif\" font-size=\"14.00\">w1</text>\n<polyline fill=\"none\" stroke=\"black\" points=\"33,-194.5 33,-230.5 \"/>\n<text text-anchor=\"middle\" x=\"75.5\" y=\"-208.8\" font-family=\"Times,serif\" font-size=\"14.00\">data &#45;3.0000</text>\n<polyline fill=\"none\" stroke=\"black\" points=\"118,-194.5 118,-230.5 \"/>\n<text text-anchor=\"middle\" x=\"159\" y=\"-208.8\" font-family=\"Times,serif\" font-size=\"14.00\">grad 1.0000</text>\n</g>\n<!-- 135101584004512&#45;&gt;135101584004224* -->\n<g id=\"edge14\" class=\"edge\">\n<title>135101584004512&#45;&gt;135101584004224*</title>\n<path fill=\"none\" stroke=\"black\" d=\"M169.28,-194.5C179.65,-191.39 190.16,-188.02 200,-184.5 210.28,-180.83 221.28,-176.26 231.11,-171.93\"/>\n<polygon fill=\"black\" stroke=\"black\" points=\"232.79,-175.01 240.48,-167.73 229.93,-168.63 232.79,-175.01\"/>\n</g>\n<!-- 135101583748032 -->\n<g id=\"node27\" class=\"node\">\n<title>135101583748032</title>\n<polygon fill=\"none\" stroke=\"black\" points=\"1010.5,-28.5 1010.5,-64.5 1192.5,-64.5 1192.5,-28.5 1010.5,-28.5\"/>\n<text text-anchor=\"middle\" x=\"1020.5\" y=\"-42.8\" font-family=\"Times,serif\" font-size=\"14.00\"> </text>\n<polyline fill=\"none\" stroke=\"black\" points=\"1030.5,-28.5 1030.5,-64.5 \"/>\n<text text-anchor=\"middle\" x=\"1070.5\" y=\"-42.8\" font-family=\"Times,serif\" font-size=\"14.00\">data 2.0000</text>\n<polyline fill=\"none\" stroke=\"black\" points=\"1110.5,-28.5 1110.5,-64.5 \"/>\n<text text-anchor=\"middle\" x=\"1151.5\" y=\"-42.8\" font-family=\"Times,serif\" font-size=\"14.00\">grad 0.2203</text>\n</g>\n<!-- 135101583748032&#45;&gt;135101583748272* -->\n<g id=\"edge23\" class=\"edge\">\n<title>135101583748032&#45;&gt;135101583748272*</title>\n<path fill=\"none\" stroke=\"black\" d=\"M1192.68,-62.36C1202.61,-64.11 1212.23,-65.8 1220.84,-67.32\"/>\n<polygon fill=\"black\" stroke=\"black\" points=\"1220.36,-70.78 1230.81,-69.07 1221.57,-63.89 1220.36,-70.78\"/>\n</g>\n<!-- 135101584012768 -->\n<g id=\"node28\" class=\"node\">\n<title>135101584012768</title>\n<polygon fill=\"none\" stroke=\"black\" points=\"2,-139.5 2,-175.5 198,-175.5 198,-139.5 2,-139.5\"/>\n<text text-anchor=\"middle\" x=\"17\" y=\"-153.8\" font-family=\"Times,serif\" font-size=\"14.00\">x1</text>\n<polyline fill=\"none\" stroke=\"black\" points=\"32,-139.5 32,-175.5 \"/>\n<text text-anchor=\"middle\" x=\"72\" y=\"-153.8\" font-family=\"Times,serif\" font-size=\"14.00\">data 2.0000</text>\n<polyline fill=\"none\" stroke=\"black\" points=\"112,-139.5 112,-175.5 \"/>\n<text text-anchor=\"middle\" x=\"155\" y=\"-153.8\" font-family=\"Times,serif\" font-size=\"14.00\">grad &#45;1.5000</text>\n</g>\n<!-- 135101584012768&#45;&gt;135101584004224* -->\n<g id=\"edge26\" class=\"edge\">\n<title>135101584012768&#45;&gt;135101584004224*</title>\n<path fill=\"none\" stroke=\"black\" d=\"M198.37,-157.5C208.05,-157.5 217.4,-157.5 225.8,-157.5\"/>\n<polygon fill=\"black\" stroke=\"black\" points=\"225.91,-161 235.91,-157.5 225.91,-154 225.91,-161\"/>\n</g>\n</g>\n</svg>\n",
            "text/plain": [
              "<graphviz.graphs.Digraph at 0x7adfc9e86fe0>"
            ]
          },
          "metadata": {},
          "execution_count": 264
        }
      ]
    },
    {
      "cell_type": "markdown",
      "source": [
        "### Making the same thing in Pytorch"
      ],
      "metadata": {
        "id": "c0oP0Zume_96"
      }
    },
    {
      "cell_type": "code",
      "source": [
        "import torch\n",
        "import random"
      ],
      "metadata": {
        "id": "z8outucAfvYM"
      },
      "execution_count": 265,
      "outputs": []
    },
    {
      "cell_type": "code",
      "source": [
        "x1 = torch.Tensor([2.0]).double()   ;x1.requires_grad=True\n",
        "x2 = torch.Tensor([0.0]).double()   ;x2.requires_grad=True\n",
        "w1 = torch.Tensor([-3.0]).double()  ;w1.requires_grad=True\n",
        "w2 = torch.Tensor([1.0]).double()   ;w2.requires_grad=True\n",
        "b = torch.Tensor([6.8813735870915432]).double() ;b.require_grad=True\n",
        "\n",
        "n = x1*w1 + x2*w2 + b\n",
        "o = torch.tanh(n)\n",
        "\n",
        "print(o.data.item())\n",
        "o.backward()\n",
        "\n",
        "print(\"x2\", x2.grad.item())\n",
        "print(\"w2\", w2.grad.item())\n",
        "print(\"x1\", x1.grad.item())\n",
        "print(\"w1\", w1.grad.item())"
      ],
      "metadata": {
        "colab": {
          "base_uri": "https://localhost:8080/"
        },
        "id": "HiXeRuGPfwpm",
        "outputId": "f15dbde1-0c70-493a-90b8-dcce9aa08318"
      },
      "execution_count": 266,
      "outputs": [
        {
          "output_type": "stream",
          "name": "stdout",
          "text": [
            "0.7071066904050358\n",
            "x2 0.5000001283844369\n",
            "w2 0.0\n",
            "x1 -1.5000003851533106\n",
            "w1 1.0000002567688737\n"
          ]
        }
      ]
    },
    {
      "cell_type": "markdown",
      "source": [
        "## Neural Networks"
      ],
      "metadata": {
        "id": "SxXeU8lCkSmY"
      }
    },
    {
      "cell_type": "code",
      "source": [
        "class Neuron:\n",
        "\n",
        "  def __init__(self, nin):\n",
        "    self.w = [Value(random.uniform(-1, 1)) for _ in range(nin)]\n",
        "    self.b = Value(random.uniform(-1, 1))\n",
        "\n",
        "  def __call__(self, x):\n",
        "    act = sum((wi * xi for wi, xi in zip(self.w, x)), self.b)\n",
        "    out = act.tanh()\n",
        "    return out\n",
        "\n",
        "  def parameters(self):\n",
        "    return self.w + [self.b]\n",
        "\n",
        "class Layer:\n",
        "\n",
        "  def __init__(self, nin, nout):\n",
        "    self.neurons = [Neuron(nin) for _ in range(nout)]\n",
        "\n",
        "  def __call__(self, x):\n",
        "    outs = [n(x) for n in self.neurons]\n",
        "    return outs[0] if len(outs) == 1 else outs\n",
        "\n",
        "  def parameters(self):\n",
        "    return [p for neuron in self.neurons for p in neuron.parameters()]\n",
        "\n",
        "class MLP:\n",
        "\n",
        "  def __init__(self, nin, nouts):\n",
        "    sz = [nin] + nouts\n",
        "    self.layers = [Layer(sz[i], sz[i+1]) for i in range(len(nouts))]\n",
        "\n",
        "  def __call__(self, x):\n",
        "    for layer in self.layers:\n",
        "      x = layer(x)\n",
        "    return x\n",
        "\n",
        "  def parameters(self):\n",
        "    return [p for layer in self.layers for p in layer.parameters()]\n",
        "\n",
        "x = [2.0, 3.0, 1.0]\n",
        "n = MLP(3, [4, 4, 1])\n",
        "n(x)"
      ],
      "metadata": {
        "colab": {
          "base_uri": "https://localhost:8080/"
        },
        "id": "xlt3SoPSgL70",
        "outputId": "fcfb5b0b-8e54-4834-8b84-d0b42dc9a0f9"
      },
      "execution_count": 267,
      "outputs": [
        {
          "output_type": "execute_result",
          "data": {
            "text/plain": [
              "Value(data=-0.7671028068735684)"
            ]
          },
          "metadata": {},
          "execution_count": 267
        }
      ]
    },
    {
      "cell_type": "markdown",
      "source": [
        "### Implementing Loss Function"
      ],
      "metadata": {
        "id": "Fj_pQJw4pJXA"
      }
    },
    {
      "cell_type": "code",
      "source": [
        "xs = [[2.0, 3.0, -1.0],\n",
        "      [3.0, -1.0, 0.5],\n",
        "      [0.5, 1.0, 1.0],\n",
        "      [1.0, 1.0, -1.0],\n",
        "      ]\n",
        "\n",
        "ys = [1.0, -1.0, -1.0, 1.0]"
      ],
      "metadata": {
        "id": "9AdNvg5iqp6_"
      },
      "execution_count": 268,
      "outputs": []
    },
    {
      "cell_type": "markdown",
      "source": [
        "### Iteration Loop"
      ],
      "metadata": {
        "id": "T-JsXQ_avcSs"
      }
    },
    {
      "cell_type": "code",
      "source": [
        "for k in range(50):\n",
        "\n",
        "  #forward pass\n",
        "  ypred = [n(x) for x in xs]\n",
        "  loss = sum([(yp - ytrue)**2 for yp, ytrue in zip(ypred, ys)])\n",
        "  loss\n",
        "\n",
        "  #backward pass\n",
        "  for p in n.parameters():\n",
        "    p.grad = 0.0\n",
        "  loss.backward()\n",
        "\n",
        "  #update\n",
        "  for p in n.parameters():\n",
        "    p.data += -0.07 * p.grad\n",
        "\n",
        "  if k % 10 == 0:\n",
        "    print(k, loss)"
      ],
      "metadata": {
        "colab": {
          "base_uri": "https://localhost:8080/"
        },
        "id": "4nEcEJkSq7AT",
        "outputId": "f2d70d09-2b84-41cb-9ddd-f5fce76daeb1"
      },
      "execution_count": 269,
      "outputs": [
        {
          "output_type": "stream",
          "name": "stdout",
          "text": [
            "0 Value(data=4.7484927415930756)\n",
            "10 Value(data=0.045561933999106644)\n",
            "20 Value(data=0.02191879740488635)\n",
            "30 Value(data=0.014370085799317457)\n",
            "40 Value(data=0.010679222049790577)\n"
          ]
        }
      ]
    },
    {
      "cell_type": "code",
      "source": [
        "ypred"
      ],
      "metadata": {
        "colab": {
          "base_uri": "https://localhost:8080/"
        },
        "id": "-mlz9gmau_z-",
        "outputId": "598238d7-e38d-44cd-971d-42876f1c7203"
      },
      "execution_count": 270,
      "outputs": [
        {
          "output_type": "execute_result",
          "data": {
            "text/plain": [
              "[Value(data=0.9531722244446318),\n",
              " Value(data=-0.9748482790068275),\n",
              " Value(data=-0.9493908896787224),\n",
              " Value(data=0.9426765463959434)]"
            ]
          },
          "metadata": {},
          "execution_count": 270
        }
      ]
    },
    {
      "cell_type": "markdown",
      "source": [
        "#### Neural Networks made from scratch."
      ],
      "metadata": {
        "id": "UwNa1TJ84M7O"
      }
    },
    {
      "cell_type": "code",
      "source": [],
      "metadata": {
        "id": "nvRuh3jq4avT"
      },
      "execution_count": null,
      "outputs": []
    }
  ]
}